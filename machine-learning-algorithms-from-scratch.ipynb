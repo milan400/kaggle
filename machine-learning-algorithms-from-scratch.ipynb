{
 "cells": [
  {
   "cell_type": "markdown",
   "metadata": {},
   "source": [
    "# Algorithm Included:\n",
    "\n",
    "**Machine Learning Algorithm:**\n",
    "\n",
    "* Supervised:\n",
    "    1. Linear Regression\n",
    "    2. Logistic Regression\n",
    "    3. Decision Tree(CART)\n",
    "    4. Random Forest\n",
    "    4. Naive Bayes\n",
    "    5. SVM(Linear)\n",
    "    6. KNN\n",
    "\n",
    "\n",
    "* UnSupervrised\n",
    "   1. K-Means\n",
    "   2. Principal Component Analysis\n",
    "   3. Apriori Algorithm\n",
    "\n",
    "\n",
    "* Deep Learning\n",
    "  1. Neural Network \n",
    "\n",
    "\n",
    "* Searching Algorithm\n",
    "  1. BFS\n",
    "  2. DFS"
   ]
  },
  {
   "cell_type": "markdown",
   "metadata": {},
   "source": [
    "# Supervised\n",
    "\n",
    "# 1. Linear Regression"
   ]
  },
  {
   "cell_type": "markdown",
   "metadata": {},
   "source": [
    "**In statistics, linear regression is a linear approach to modeling the relationship between a scalar response (or dependent variable) and one or more explanatory variables (or independent variables). The case of one explanatory variable is called simple linear regression.**"
   ]
  },
  {
   "cell_type": "code",
   "execution_count": 1,
   "metadata": {
    "_cell_guid": "79c7e3d0-c299-4dcb-8224-4455121ee9b0",
    "_kg_hide-input": false,
    "_uuid": "d629ff2d2480ee46fbb7e2d37f6b5fab8052498a"
   },
   "outputs": [
    {
     "name": "stdout",
     "output_type": "stream",
     "text": [
      "MSE: 305.7719958301902\n"
     ]
    },
    {
     "data": {
      "image/png": "[encoded data removed]",
      "text/plain": [
       "<Figure size 576x432 with 1 Axes>"
      ]
     },
     "metadata": {
      "needs_background": "light"
     },
     "output_type": "display_data"
    }
   ],
   "source": [
    "import numpy as np\n",
    "from sklearn.model_selection import train_test_split\n",
    "from sklearn import datasets\n",
    "import matplotlib.pyplot as plt\n",
    "from sklearn.metrics import confusion_matrix\n",
    "\n",
    "class LinearRegression:\n",
    "\n",
    "    def __init__(self, learning_rate=0.001, n_iters=1000):\n",
    "        self.lr = learning_rate\n",
    "        self.n_iters = n_iters\n",
    "        self.weights = None\n",
    "        self.bias = None\n",
    "\n",
    "    def fit(self, X, y):\n",
    "        n_samples, n_features = X.shape\n",
    "\n",
    "        # init parameters\n",
    "        self.weights = np.zeros(n_features)\n",
    "        self.bias = 0\n",
    "\n",
    "        # gradient descent\n",
    "        for _ in range(self.n_iters):\n",
    "            y_predicted = np.dot(X, self.weights) + self.bias\n",
    "            # compute gradients\n",
    "            dw = (1 / n_samples) * np.dot(X.T, (y_predicted - y))\n",
    "            db = (1 / n_samples) * np.sum(y_predicted - y)\n",
    "\n",
    "            # update parameters\n",
    "            self.weights -= self.lr * dw\n",
    "            self.bias -= self.lr * db\n",
    " \n",
    "\n",
    "    def predict(self, X):\n",
    "        y_approximated = np.dot(X, self.weights) + self.bias\n",
    "        return y_approximated\n",
    "\n",
    "def mean_squared_error(y_true, y_pred):\n",
    "    return np.mean((y_true - y_pred)**2)\n",
    "\n",
    "\n",
    "\n",
    "X, y = datasets.make_regression(n_samples=100, n_features=1, noise=20, random_state=4)\n",
    "X_train, X_test, y_train, y_test = train_test_split(X, y, test_size=0.2, random_state=1234)\n",
    "\n",
    "\n",
    "regressor = LinearRegression(learning_rate=0.01, n_iters=1000)\n",
    "regressor.fit(X_train, y_train)\n",
    "predictions = regressor.predict(X_test)\n",
    "    \n",
    "mse = mean_squared_error(y_test, predictions)\n",
    "print(\"MSE:\", mse)\n",
    "\n",
    "y_pred_line = regressor.predict(X)\n",
    "\n",
    "\n",
    "\n",
    "cmap = plt.get_cmap('viridis')\n",
    "fig = plt.figure(figsize=(8,6))\n",
    "m1 = plt.scatter(X_train, y_train, color=cmap(0.9), s=10)\n",
    "m2 = plt.scatter(X_test, y_test, color=cmap(0.5), s=10)\n",
    "plt.plot(X, y_pred_line, color='black', linewidth=2, label=\"Prediction\")\n",
    "plt.show()\n",
    "\n"
   ]
  },
  {
   "cell_type": "markdown",
   "metadata": {},
   "source": [
    "# 2. Logistic Regression"
   ]
  },
  {
   "cell_type": "markdown",
   "metadata": {},
   "source": [
    "**Logistic regression is a statistical model that in its basic form uses a logistic function to model a binary dependent variable, although many more complex extensions exist. In regression analysis, logistic regression (or logit regression) is estimating the parameters of a logistic model (a form of binary regression**"
   ]
  },
  {
   "cell_type": "code",
   "execution_count": 2,
   "metadata": {
    "_kg_hide-input": false
   },
   "outputs": [
    {
     "name": "stdout",
     "output_type": "stream",
     "text": [
      "Accuracy:  0.9298245614035088\n"
     ]
    }
   ],
   "source": [
    "class logisticRegression:\n",
    "\n",
    "  def __init__(self,lr=0.001,n_iters=1000):\n",
    "    self.lr = lr\n",
    "    self.n_iters = n_iters\n",
    "    self.weights = None\n",
    "    self.bias = None\n",
    "\n",
    "  def fit(self,X,y):\n",
    "    #init parameters\n",
    "    n_samples, n_features = X.shape\n",
    "    self.weights = np.zeros(n_features)\n",
    "    self.bias = 0\n",
    "\n",
    "    #gradient descent\n",
    "    for _ in range(self.n_iters):\n",
    "      linear_model = np.dot(X,self.weights) + self.bias\n",
    "      y_predicted = self._sigmoid(linear_model)\n",
    "\n",
    "      dw = (1/n_samples) * np.dot(X.T,(y_predicted-y))\n",
    "      db = (1/n_samples) * np.sum(y_predicted-y)\n",
    "\n",
    "      self.weights -= self.lr *dw\n",
    "      self.bias -= self.lr * db \n",
    "\n",
    "  def predict(self,X):\n",
    "    linear_model = np.dot(X,self.weights) + self.bias\n",
    "    y_predicted = self._sigmoid(linear_model)\n",
    "    y_predicted_cls = [1 if i>0.5 else 0 for i in y_predicted]\n",
    "    return y_predicted_cls\n",
    "  \n",
    "  def _sigmoid(self,x):\n",
    "    return(1/(1+np.exp(-x)))\n",
    "\n",
    "#Test Logistic regression in breast_cancer\n",
    "bc = datasets.load_breast_cancer()\n",
    "X, y = bc.data, bc.target\n",
    "\n",
    "X_train, X_test, y_train, y_test = train_test_split(X, y, test_size=0.2, random_state=1234)\n",
    "\n",
    "\n",
    "\n",
    "def accuracy(y_true,y_pred):\n",
    "  accuracy = np.sum(y_true == y_pred)/len(y_true)\n",
    "  return accuracy\n",
    "\n",
    "regressor = logisticRegression(lr=0.0001,n_iters=1000)\n",
    "regressor.fit(X_train, y_train)\n",
    "\n",
    "predictions = regressor.predict(X_test)\n",
    "\n",
    "print(\"Accuracy: \",accuracy(y_test, predictions))"
   ]
  },
  {
   "cell_type": "markdown",
   "metadata": {},
   "source": [
    "# 3. Decision Tree(CART)"
   ]
  },
  {
   "cell_type": "markdown",
   "metadata": {},
   "source": [
    "**A decision tree is a flowchart-like structure in which each internal node represents a \"test\" on an attribute (e.g. whether a coin flip comes up heads or tails), each branch represents the outcome of the test, and each leaf node represents a class label (decision taken after computing all attributes).**"
   ]
  },
  {
   "cell_type": "code",
   "execution_count": 3,
   "metadata": {
    "_kg_hide-input": false
   },
   "outputs": [
    {
     "name": "stdout",
     "output_type": "stream",
     "text": [
      "Accuracy:  0.6228070175438597\n"
     ]
    }
   ],
   "source": [
    "from collections import Counter\n",
    "\n",
    "def entropy(y):\n",
    "  hist = np.bincount(y)\n",
    "  ps = hist/len(y)\n",
    "  return(-np.sum([p * np.log2(p) for p in ps if p>0]))\n",
    "\n",
    "\n",
    "\n",
    "class Node:\n",
    "  def __init__(self, feature=None, threshold=None, left=None, right=None,*,value=None):\n",
    "    self.feature = feature\n",
    "    self.threshold = threshold\n",
    "    self.left = left\n",
    "    self.right = right\n",
    "    self.value = value\n",
    "  \n",
    "  def is_leaf_node(self):\n",
    "    return(self.value is not None)\n",
    "\n",
    "\n",
    "class DecisionTree:\n",
    "  def __init__(self, min_samples_split=2, max_depth=100, n_feats=None):\n",
    "    self.min_samples_split = min_samples_split\n",
    "    self.max_depth = max_depth\n",
    "    self.n_feats = n_feats\n",
    "    self.root = None\n",
    "\n",
    "  def fit(self, X, y):\n",
    "    self.n_feats = X.shape[1] if not self.n_feats else min(self.n_feats, X.shape[1])\n",
    "    self.root = self._grow_tree(X, y)\n",
    "\n",
    "  def _grow_tree(self, X, y, depth=0):\n",
    "    n_samples, n_features = X.shape\n",
    "    n_labels = len(np.unique(y))\n",
    "\n",
    "    #stopping criteria\n",
    "    if(depth >= self.max_depth or n_labels == 1 or n_samples < self.min_samples_split):\n",
    "      leaf_value = self._most_common_label(y)\n",
    "      return(Node(value=leaf_value))\n",
    "    \n",
    "    feat_idxs = np.random.choice(n_features, self.n_feats, replace=False)\n",
    "\n",
    "    #greedy search\n",
    "    best_feat, best_thresh = self._best_criteria(X, y, feat_idxs)\n",
    "\n",
    "    left_idxs, right_idxs = self._split(X[:,best_feat],best_thresh)\n",
    "\n",
    "    left = self._grow_tree(X[left_idxs,:], y[left_idxs], depth+1)\n",
    "    right = self._grow_tree(X[right_idxs,:], y[right_idxs], depth+1)\n",
    "    return(Node(best_feat, best_thresh, left, right))\n",
    "  \n",
    "\n",
    "  def _best_criteria(self, X, y, feat_idxs):\n",
    "    best_gain = -1\n",
    "    split_idx, split_thresh = None, None\n",
    "    for feat_idx in feat_idxs:\n",
    "      X_column = X[:, feat_idx]\n",
    "      thresholds = np.unique(X_column)\n",
    "      for threshold in thresholds:\n",
    "        gain = self._information_gain(y, X_column, threshold)\n",
    "        if(gain>best_gain):\n",
    "          best_gain = gain\n",
    "          split_idx = feat_idx\n",
    "          split_thresh = threshold\n",
    "    return(split_idx, split_thresh)\n",
    "\n",
    "  def _information_gain(self, y, X_column, split_threh):\n",
    "    #parent entropy\n",
    "    parent_entropy = entropy(y)\n",
    "\n",
    "    #generate split\n",
    "    left_idxs, right_idxs = self._split(X_column, split_threh)\n",
    "    if(len(left_idxs == 0) or len(right_idxs)==0):\n",
    "      return 0\n",
    "\n",
    "    #weighted avg vhild entropy\n",
    "    n = len(y)\n",
    "    n_l, n_r = len(left_idxs), len(right_idxs)\n",
    "    e_l, e_r = entropy(y[left_idxs]), entropy(y[right_idxs])\n",
    "    child_entropy = (n_l/n)*e_l + (n_r/n)*e_r\n",
    "\n",
    "    #return ig\n",
    "    ig = parent_entropy - child_entropy\n",
    "\n",
    "    return ig\n",
    "  \n",
    "  def _split(self, X_column, split_threh):\n",
    "    left_idxs = np.argwhere(X_column <= split_threh).flatten()\n",
    "    right_idxs = np.argwhere(X_column > split_threh).flatten()\n",
    "    return(left_idxs, right_idxs)\n",
    "  \n",
    "  def predict(self, X):\n",
    "    #traverse tree\n",
    "    return(np.array([self._traverse_tree(x, self.root) for x in X]))\n",
    "\n",
    "  def _traverse_tree(self, x, node):\n",
    "    if(node.is_leaf_node()):\n",
    "      return(node.value)\n",
    "\n",
    "    if(x[node.feature] <= node.threshold):\n",
    "      return(self._traverse_tree(x, node.left))\n",
    "    return(self._traverse_tree(x, node.right))\n",
    "\n",
    "  def _most_common_label(self, y):\n",
    "    counter = Counter(y)\n",
    "    most_common = counter.most_common(1)[0][0]\n",
    "    return(most_common)\n",
    "\n",
    "#decision tree test\n",
    "\n",
    "\n",
    "def accuracy(y_true, y_pred):\n",
    "  accuracy = np.sum(y_true == y_pred) / len(y_true)\n",
    "  return(accuracy)\n",
    "\n",
    "\n",
    "\n",
    "data = datasets.load_breast_cancer()\n",
    "X = data.data\n",
    "y = data.target\n",
    "\n",
    "X_train, X_test, y_train, y_test = train_test_split(X, y, test_size=0.2, random_state = 42)\n",
    "\n",
    "\n",
    "\n",
    "clf = DecisionTree(max_depth=20)\n",
    "clf.fit(X_train, y_train)\n",
    "\n",
    "\n",
    "\n",
    "y_pred = clf.predict(X_test)\n",
    "acc = accuracy(y_test, y_pred)\n",
    "\n",
    "print(\"Accuracy: \",acc)"
   ]
  },
  {
   "cell_type": "code",
   "execution_count": 4,
   "metadata": {},
   "outputs": [
    {
     "data": {
      "text/plain": [
       "<matplotlib.axes._subplots.AxesSubplot at 0x7f405ee4aa20>"
      ]
     },
     "execution_count": 4,
     "metadata": {},
     "output_type": "execute_result"
    },
    {
     "data": {
      "image/png": "[encoded data removed]",
      "text/plain": [
       "<Figure size 432x288 with 2 Axes>"
      ]
     },
     "metadata": {
      "needs_background": "light"
     },
     "output_type": "display_data"
    }
   ],
   "source": [
    "cnf_matrix = confusion_matrix(y_test, y_pred)\n",
    "import seaborn as sns\n",
    "sns.heatmap(cnf_matrix, annot=True)"
   ]
  },
  {
   "cell_type": "markdown",
   "metadata": {},
   "source": [
    "# 4. Random Forest"
   ]
  },
  {
   "cell_type": "markdown",
   "metadata": {},
   "source": [
    "**Random forests or random decision forests are an ensemble learning method for classification, regression and other tasks that operate by constructing a multitude of decision trees at training time and outputting the class that is the mode of the classes (classification) or mean prediction (regression) of the individual trees.Random decision forests correct for decision trees' habit of overfitting to their training set.**"
   ]
  },
  {
   "cell_type": "code",
   "execution_count": 5,
   "metadata": {
    "_kg_hide-input": false
   },
   "outputs": [
    {
     "name": "stdout",
     "output_type": "stream",
     "text": [
      "Accuracy:  0.6929824561403509\n"
     ]
    }
   ],
   "source": [
    "def bootstrap_sample(X, y):\n",
    "  n_samples = X.shape[0]\n",
    "  idxs = np.random.choice(n_samples, size = n_samples, replace=True)\n",
    "  return(X[idxs], y[idxs])\n",
    "\n",
    "def most_common_label(y):\n",
    "  counter = Counter(y)\n",
    "  most_common = counter.most_common(1)[0][0]\n",
    "  return(most_common)\n",
    "\n",
    "class RandomForest:\n",
    "  def __init__(self, n_trees = 100, min_samples_split=2, max_depth=100, n_feats=None):\n",
    "    self.n_trees = n_trees\n",
    "    self.min_samples_split = min_samples_split\n",
    "    self.max_depth = max_depth\n",
    "    self.n_feats = n_feats\n",
    "    self.trees = []\n",
    "\n",
    "  def fit(self, X, y):\n",
    "    self.trees = []\n",
    "    for _ in range(self.n_trees):\n",
    "      tree = DecisionTree(min_samples_split = self.min_samples_split, max_depth=self.max_depth, n_feats=self.n_feats)\n",
    "      X_sample, y_sample = bootstrap_sample(X, y)\n",
    "      tree.fit(X_sample, y_sample)\n",
    "      self.trees.append(tree)\n",
    "  def predict(self, X):\n",
    "    tree_preds = np.array([tree.predict(X) for tree in self.trees])\n",
    "    tree_preds = np.swapaxes(tree_preds, 0, 1)\n",
    "\n",
    "    y_pred = [most_common_label(tree_pred) for tree_pred in tree_preds]\n",
    "    return np.array(y_pred)\n",
    "\n",
    "\n",
    "clf_f = RandomForest(n_trees=3)\n",
    "clf_f.fit(X_train, y_train)\n",
    "\n",
    "y_pred = clf_f.predict(X_test)\n",
    "acc = accuracy(y_test, y_pred)\n",
    "\n",
    "print(\"Accuracy: \",acc)"
   ]
  },
  {
   "cell_type": "code",
   "execution_count": 6,
   "metadata": {},
   "outputs": [
    {
     "data": {
      "text/plain": [
       "<matplotlib.axes._subplots.AxesSubplot at 0x7f40787ef710>"
      ]
     },
     "execution_count": 6,
     "metadata": {},
     "output_type": "execute_result"
    },
    {
     "data": {
      "image/png": "[encoded data removed]",
      "text/plain": [
       "<Figure size 432x288 with 2 Axes>"
      ]
     },
     "metadata": {
      "needs_background": "light"
     },
     "output_type": "display_data"
    }
   ],
   "source": [
    "cnf_matrix = confusion_matrix(y_test, y_pred)\n",
    "import seaborn as sns\n",
    "sns.heatmap(cnf_matrix, annot=True)"
   ]
  },
  {
   "cell_type": "markdown",
   "metadata": {},
   "source": [
    "# 5. Naive Bayes"
   ]
  },
  {
   "cell_type": "markdown",
   "metadata": {},
   "source": [
    "**In machine learning, naïve Bayes classifiers are a family of simple \"probabilistic classifiers\" based on applying Bayes' theorem with strong (naïve) independence assumptions between the features. They are among the simplest Bayesian network models.But they could be coupled with Kernel density estimation and achieve higher accuracy levels.**"
   ]
  },
  {
   "cell_type": "code",
   "execution_count": 7,
   "metadata": {
    "_kg_hide-input": false
   },
   "outputs": [
    {
     "name": "stdout",
     "output_type": "stream",
     "text": [
      "Naive Bayes classification accuracy  0.965\n"
     ]
    }
   ],
   "source": [
    "class NaiveBayes:\n",
    "\n",
    "  def fit(self, X, y):\n",
    "    n_samples, n_features = X.shape\n",
    "    self._classes = np.unique(y)\n",
    "    n_classes = len(self._classes)\n",
    "\n",
    "    #init mean, var, priors\n",
    "    self._mean = np.zeros((n_classes, n_features), dtype=np.float64)\n",
    "    self._var = np.zeros((n_classes, n_features), dtype=np.float64)\n",
    "    self._priors = np.zeros(n_classes, dtype=np.float64)\n",
    "\n",
    "    for c in self._classes:\n",
    "      X_c = X[c==y]\n",
    "      self._mean[c,:]=X_c.mean(axis=0)\n",
    "      self._var[c,:]=X_c.var(axis=0)\n",
    "      self._priors[c] = X_c.shape[0] / float(n_samples)\n",
    "\n",
    "  def predict(self,X):\n",
    "    y_pred = [self._predict(x) for x in X]\n",
    "    return(y_pred)\n",
    "    \n",
    "  def _predict(self, x):\n",
    "    posteriors = []\n",
    "    for idx, c in enumerate(self._classes):\n",
    "      #print(idx,c)\n",
    "      prior = np.log(self._priors[idx])\n",
    "      class_conditional = np.sum(np.log(self._pdf(idx,x)))\n",
    "      posterior = prior + class_conditional\n",
    "      posteriors.append(posterior)\n",
    "    return(self._classes[np.argmax(posteriors)])\n",
    "\n",
    "\n",
    "    \n",
    "  def _pdf(self, class_idx, x):\n",
    "    mean = self._mean[class_idx]\n",
    "    var = self._var[class_idx]\n",
    "    numerator = np.exp(-(x-mean)**2/(2 * var))\n",
    "    denominator = np.sqrt(2*np.pi*var)\n",
    "    return(numerator/denominator)\n",
    "\n",
    "\n",
    "# Naive Bayes Test\n",
    "\n",
    "\n",
    "def accuracy(y_true, y_pred):\n",
    "  accuracy = np.sum(y_true == y_pred)/len(y_true)\n",
    "  return(accuracy)\n",
    "\n",
    "X,y = datasets.make_classification(n_samples=1000, n_features=10, n_classes=2, random_state=123)\n",
    "X_train, X_test, y_train, y_test = train_test_split(X, y, test_size=0.2, random_state=123)\n",
    "\n",
    "nb = NaiveBayes()\n",
    "nb.fit(X_train, y_train)\n",
    "predictions = nb.predict(X_test)\n",
    "\n",
    "print(\"Naive Bayes classification accuracy \",accuracy(y_test, predictions))"
   ]
  },
  {
   "cell_type": "code",
   "execution_count": 8,
   "metadata": {},
   "outputs": [
    {
     "data": {
      "text/plain": [
       "<matplotlib.axes._subplots.AxesSubplot at 0x7f405601e5f8>"
      ]
     },
     "execution_count": 8,
     "metadata": {},
     "output_type": "execute_result"
    },
    {
     "data": {
      "image/png": "[encoded data removed]",
      "text/plain": [
       "<Figure size 432x288 with 2 Axes>"
      ]
     },
     "metadata": {
      "needs_background": "light"
     },
     "output_type": "display_data"
    }
   ],
   "source": [
    "cnf_matrix = confusion_matrix(y_test, predictions)\n",
    "import seaborn as sns\n",
    "sns.heatmap(cnf_matrix, annot=True)"
   ]
  },
  {
   "cell_type": "markdown",
   "metadata": {},
   "source": [
    "# 6. SVM(Linear)"
   ]
  },
  {
   "cell_type": "markdown",
   "metadata": {},
   "source": [
    "**In machine learning, support-vector machines (SVMs, also support-vector networks) are supervised learning models with associated learning algorithms that analyze data used for classification and regression analysis. Given a set of training examples, each marked as belonging to one or the other of two categories, an SVM training algorithm builds a model that assigns new examples to one category or the other, making it a non-probabilistic binary linear classifier (although methods such as Platt scaling exist to use SVM in a probabilistic classification setting). An SVM model is a representation of the examples as points in space, mapped so that the examples of the separate categories are divided by a clear gap that is as wide as possible. New examples are then mapped into that same space and predicted to belong to a category based on the side of the gap on which they fall. **"
   ]
  },
  {
   "cell_type": "code",
   "execution_count": 9,
   "metadata": {
    "_kg_hide-input": false
   },
   "outputs": [
    {
     "name": "stdout",
     "output_type": "stream",
     "text": [
      "[-0.20334488  0.34762713 -0.05190083] -1.0459999999999956\n"
     ]
    },
    {
     "data": {
      "image/png": "[encoded data removed]",
      "text/plain": [
       "<Figure size 432x288 with 1 Axes>"
      ]
     },
     "metadata": {
      "needs_background": "light"
     },
     "output_type": "display_data"
    }
   ],
   "source": [
    "class SVM:\n",
    "  def __init__(self, learning_rate = 0.001, lambda_param=0.01, n_iters=1000):\n",
    "    self.lr = learning_rate\n",
    "    self.lambda_param = lambda_param\n",
    "    self.n_iters = n_iters\n",
    "    self.w = None\n",
    "    self.b = None\n",
    "\n",
    "  def fit(self, X, y):\n",
    "    y_ = np.where(y<=0,-1,1)\n",
    "    n_samples, n_features = X.shape\n",
    "\n",
    "    self.w = np.zeros(n_features)\n",
    "    self.b = 0\n",
    "\n",
    "    for _ in range(self.n_iters):\n",
    "      for idx, x_i in enumerate(X):\n",
    "        condition = y_[idx] * (np.dot(x_i, self.w) - self.b) >=1\n",
    "        if condition:\n",
    "          self.w -= self.lr * (2*self.lambda_param * self.w)\n",
    "        else:\n",
    "          self.w -= self.lr * (2 * self.lambda_param * self.w - np.dot(x_i, y_[idx]))\n",
    "          self.b -= self.lr * y_[idx]\n",
    "  \n",
    "  def predict(self, X):\n",
    "    linear_output = np.dot(X, self.w) - self.b\n",
    "    return(np.sign(linear_output))\n",
    "\n",
    "X, y =  datasets.make_blobs(n_samples=50, n_features=3, centers=3, cluster_std=1.05, random_state=40)\n",
    "y = np.where(y == 0, -1, 1)\n",
    "\n",
    "clf = SVM()\n",
    "clf.fit(X, y)\n",
    "predictions = clf.predict(X)\n",
    " \n",
    "print(clf.w, clf.b)\n",
    "\n",
    "def visualize_svm():\n",
    "     def get_hyperplane_value(x, w, b, offset):\n",
    "          return (-w[0] * x + b + offset) / w[1]\n",
    "\n",
    "     fig = plt.figure()\n",
    "     ax = fig.add_subplot(1,1,1)\n",
    "     plt.scatter(X[:,0], X[:,1], marker='o',c=y)\n",
    "\n",
    "     x0_1 = np.amin(X[:,0])\n",
    "     x0_2 = np.amax(X[:,0])\n",
    "\n",
    "     x1_1 = get_hyperplane_value(x0_1, clf.w, clf.b, 0)\n",
    "     x1_2 = get_hyperplane_value(x0_2, clf.w, clf.b, 0)\n",
    "\n",
    "     x1_1_m = get_hyperplane_value(x0_1, clf.w, clf.b, -1)\n",
    "     x1_2_m = get_hyperplane_value(x0_2, clf.w, clf.b, -1)\n",
    "\n",
    "     x1_1_p = get_hyperplane_value(x0_1, clf.w, clf.b, 1)\n",
    "     x1_2_p = get_hyperplane_value(x0_2, clf.w, clf.b, 1)\n",
    "\n",
    "     ax.plot([x0_1, x0_2],[x1_1, x1_2], 'y--')\n",
    "     ax.plot([x0_1, x0_2],[x1_1_m, x1_2_m], 'k')\n",
    "     ax.plot([x0_1, x0_2],[x1_1_p, x1_2_p], 'k')\n",
    "\n",
    "     x1_min = np.amin(X[:,1])\n",
    "     x1_max = np.amax(X[:,1])\n",
    "     ax.set_ylim([x1_min-3,x1_max+3])\n",
    "\n",
    "     plt.show()\n",
    "\n",
    "visualize_svm()"
   ]
  },
  {
   "cell_type": "code",
   "execution_count": 10,
   "metadata": {},
   "outputs": [
    {
     "data": {
      "text/plain": [
       "<matplotlib.axes._subplots.AxesSubplot at 0x7f4055eb6710>"
      ]
     },
     "execution_count": 10,
     "metadata": {},
     "output_type": "execute_result"
    },
    {
     "data": {
      "image/png": "[encoded data removed]",
      "text/plain": [
       "<Figure size 432x288 with 2 Axes>"
      ]
     },
     "metadata": {
      "needs_background": "light"
     },
     "output_type": "display_data"
    }
   ],
   "source": [
    "cnf_matrix = confusion_matrix(y, predictions)\n",
    "import seaborn as sns\n",
    "sns.heatmap(cnf_matrix, annot=True)"
   ]
  },
  {
   "cell_type": "markdown",
   "metadata": {},
   "source": [
    "# 7. KNN"
   ]
  },
  {
   "cell_type": "markdown",
   "metadata": {},
   "source": [
    "**In pattern recognition, the k-nearest neighbors algorithm (k-NN) is a non-parametric method used for classification and regression.In both cases, the input consists of the k closest training examples in the feature space. The output depends on whether k-NN is used for classification or regression: **"
   ]
  },
  {
   "cell_type": "code",
   "execution_count": 11,
   "metadata": {
    "_kg_hide-input": false
   },
   "outputs": [
    {
     "name": "stdout",
     "output_type": "stream",
     "text": [
      "Accuracy: 96.22641509433963%\n"
     ]
    }
   ],
   "source": [
    "#KNN Algortihm: Iris Dataset\n",
    "\n",
    "import csv\n",
    "with open(r'/kaggle/input/ml-scratch-master/ML_Scratch-master/knn/iris.data') as csvfile:\n",
    "    lines = csv.reader(csvfile)\n",
    "    for row in lines:\n",
    "        pass\n",
    "        #print (', '.join(row))\n",
    "\n",
    "import random\n",
    "def handleDataset(filename, split, trainingSet=[] , testSet=[]):\n",
    "    with open(filename, 'r') as csvfile:\n",
    "        lines = csv.reader(csvfile)\n",
    "        dataset = list(lines)\n",
    "        for x in range(len(dataset)-1):\n",
    "            for y in range(4):\n",
    "                dataset[x][y] = float(dataset[x][y])\n",
    "            if random.random() < split:\n",
    "                trainingSet.append(dataset[x])\n",
    "            else:\n",
    "                testSet.append(dataset[x])\n",
    "\n",
    "#compute euclidean distance\n",
    "import math\n",
    "def euclideanDistance(instance1, instance2, length):\n",
    "    distance = 0\n",
    "    for x in range(length):\n",
    "        distance += pow((instance1[x] - instance2[x]), 2)\n",
    "    return math.sqrt(distance)\n",
    "\n",
    "#Find k-nearest neighbour\n",
    "import operator \n",
    "def getNeighbors(trainingSet, testInstance, k):\n",
    "    distances = []\n",
    "    length = len(testInstance)-1\n",
    "    for x in range(len(trainingSet)):\n",
    "        dist = euclideanDistance(testInstance, trainingSet[x], length)\n",
    "        distances.append((trainingSet[x], dist))\n",
    "    distances.sort(key=operator.itemgetter(1))\n",
    "    neighbors = []\n",
    "    for x in range(k):\n",
    "        neighbors.append(distances[x][0])\n",
    "    return neighbors\n",
    "\n",
    "\n",
    "#Predict the class\n",
    "import operator\n",
    "def getResponse(neighbors):\n",
    "    classVotes = {}\n",
    "    for x in range(len(neighbors)):\n",
    "        response = neighbors[x][-1]\n",
    "        if response in classVotes:\n",
    "            classVotes[response] += 1\n",
    "        else:\n",
    "            classVotes[response] = 1\n",
    "    sortedVotes = sorted(classVotes.items(), key=operator.itemgetter(1), reverse=True)\n",
    "    return sortedVotes[0][0]\n",
    "\n",
    "\n",
    "#Accuracy\n",
    "def getAccuracy(testSet, predictions):\n",
    "    correct = 0\n",
    "    for x in range(len(testSet)):\n",
    "        if testSet[x][-1] == predictions[x]:\n",
    "            correct += 1\n",
    "    return (correct/float(len(testSet))) * 100.0\n",
    "\n",
    "#Main Program\n",
    "\n",
    "\n",
    "def main():\n",
    "    #prepare data\n",
    "    trainingset = []\n",
    "    testset = []\n",
    "    split = 0.67\n",
    "    \n",
    "    handleDataset('/kaggle/input/ml-scratch-master/ML_Scratch-master/knn/iris.data',split,trainingset,testset)\n",
    "    \n",
    "    predictions = []\n",
    "    k=3\n",
    "    for x in range(len(testset)):\n",
    "        neighbors = getNeighbors(trainingset,testset[x],k)\n",
    "        result = getResponse(neighbors)\n",
    "        predictions.append(result)\n",
    "        #print('prediction = '+repr(result)+' actual = '+repr(testset[x][-1]))\n",
    "    \n",
    "    accuracy = getAccuracy(testset,predictions)\n",
    "    print('Accuracy: '+repr(accuracy)+'%')\n",
    "    \n",
    "main()"
   ]
  },
  {
   "cell_type": "markdown",
   "metadata": {},
   "source": [
    "# Unsupervised\n",
    "\n",
    "# 1. K Means"
   ]
  },
  {
   "cell_type": "markdown",
   "metadata": {},
   "source": [
    "**k-means clustering is a method of vector quantization, originally from signal processing, that aims to partition and observations into k clusters in which each observation belongs to the cluster with the nearest mean (cluster centers or cluster centroid), serving as a prototype of the cluster. This results in a partitioning of the data space into Voronoi cells. It is popular for cluster analysis in data mining. k-means clustering minimizes within-cluster variances (squared Euclidean distances), but not regular Euclidean distances, which would be the more difficult Weber problem: the mean optimizes squared errors, whereas only the geometric median minimizes Euclidean distances. For instance, Better Euclidean solutions can be found using k-medians and k-medoids. **"
   ]
  },
  {
   "cell_type": "code",
   "execution_count": 12,
   "metadata": {
    "_kg_hide-input": false
   },
   "outputs": [
    {
     "name": "stdout",
     "output_type": "stream",
     "text": [
      "3\n"
     ]
    },
    {
     "data": {
      "image/png": "[encoded data removed]",
      "text/plain": [
       "<Figure size 864x576 with 1 Axes>"
      ]
     },
     "metadata": {
      "needs_background": "light"
     },
     "output_type": "display_data"
    }
   ],
   "source": [
    "import numpy as np\n",
    "from sklearn.datasets import make_blobs\n",
    "from sklearn import datasets\n",
    "import matplotlib.pyplot as plt\n",
    "\n",
    "np.random.seed(42)\n",
    "\n",
    "X, y = make_blobs(centers=3, n_samples=500, n_features=2, shuffle=True, random_state=40)\n",
    "\n",
    "def euclidean_distance(x1,x2):\n",
    "  return np.sqrt(np.sum((x1 - x2)**2))\n",
    "\n",
    "class KMeans:\n",
    "  def __init__(self, K=5, max_iters=100, plot_steps=False):\n",
    "    self.K = K\n",
    "    self.max_iters = max_iters\n",
    "    self.plot_steps = plot_steps\n",
    "\n",
    "    #list of samples endices for each cluster\n",
    "    self.clusters = [[] for _ in range(self.K)]\n",
    "\n",
    "    #mean feature vector for each cluster\n",
    "    self.centroids = []\n",
    "\n",
    "  def predict(self, X):\n",
    "    self.X = X\n",
    "    self.n_samples, self.n_features = X.shape\n",
    "\n",
    "    #initialize centroids\n",
    "    random_sample_idxs = np.random.choice(self.n_samples, self.K, replace = False)\n",
    "    self.centroids = [self.X[idx] for idx in random_sample_idxs]\n",
    "\n",
    "    #optimization\n",
    "    for _ in range(self.max_iters):\n",
    "      #update clusters\n",
    "      self.clusters = self._create_clusters(self.centroids)\n",
    "      if self.plot_steps:\n",
    "        self.plot()\n",
    "\n",
    "      #update centroids\n",
    "      centroids_old = self.centroids\n",
    "      self.centroids = self._get_centroids(self.clusters)\n",
    "\n",
    "\n",
    "      #check if converged\n",
    "      if self._is_converged(centroids_old, self.centroids):\n",
    "        break\n",
    "\n",
    "      if self.plot_steps:\n",
    "        self.plot()\n",
    " \n",
    "    #return cluster labels\n",
    "    return self._get_cluster_labels(self.clusters)\n",
    "\n",
    "  def _get_cluster_labels(self, clusters):\n",
    "    labels = np.empty(self.n_samples)\n",
    "    for cluster_idx, cluster in enumerate(clusters):\n",
    "      for sample_idx in cluster:\n",
    "        labels[sample_idx] = cluster_idx\n",
    "    return labels\n",
    "\n",
    "\n",
    "  def _create_clusters(self, centroids):\n",
    "    clusters = [[] for _ in range(self.K)]\n",
    "    for idx, sample in enumerate(self.X):\n",
    "      centroid_idx = self._closest_centroid(sample, centroids)\n",
    "      clusters[centroid_idx].append(idx)\n",
    "    return clusters\n",
    "\n",
    "  def _closest_centroid(self, sample, centroids):\n",
    "    distances = [euclidean_distance(sample,point) for point in centroids]\n",
    "    closest_idx = np.argmin(distances)\n",
    "    return closest_idx\n",
    "  \n",
    "  def _get_centroids(self, clusters):\n",
    "    centroids = np.zeros((self.K, self.n_features))\n",
    "    for cluster_idx, cluster in enumerate(clusters):\n",
    "      cluster_mean = np.mean(self.X[cluster], axis=0)\n",
    "      centroids[cluster_idx] = cluster_mean\n",
    "    return centroids\n",
    "  \n",
    "  def _is_converged(self, centroids_old, centroids):\n",
    "    distances = [euclidean_distance(centroids_old[i], centroids[i]) for i in range(self.K)]\n",
    "    return sum(distances) == 0\n",
    "  \n",
    "  def plot(self):\n",
    "    fig, ax = plt.subplots(figsize=(12,8))\n",
    "\n",
    "    for i, index in enumerate(self.clusters):\n",
    "      point = self.X[index].T\n",
    "      ax.scatter(*point)\n",
    "    for point in self.centroids:\n",
    "      ax.scatter(*point,marker='x',color='black',linewidth=2)\n",
    "\n",
    "    plt.show()  \n",
    "\n",
    "clusters = len(np.unique(y))\n",
    "print(clusters)\n",
    "km = KMeans(K= clusters, max_iters=150, plot_steps=False)\n",
    "y_pred = km.predict(X)\n",
    "km.plot()"
   ]
  },
  {
   "cell_type": "markdown",
   "metadata": {},
   "source": [
    "# 2. PCA"
   ]
  },
  {
   "cell_type": "markdown",
   "metadata": {},
   "source": [
    "**PCA is defined as an orthogonal linear transformation that transforms the data to a new coordinate system such that the greatest variance by some scalar projection of the data comes to lie on the first coordinate (called the first principal component), the second greatest variance on the second coordinate, and so on.**"
   ]
  },
  {
   "cell_type": "code",
   "execution_count": 13,
   "metadata": {
    "_kg_hide-input": false
   },
   "outputs": [
    {
     "data": {
      "image/png": "[encoded data removed]",
      "text/plain": [
       "<Figure size 432x288 with 2 Axes>"
      ]
     },
     "metadata": {
      "needs_background": "light"
     },
     "output_type": "display_data"
    }
   ],
   "source": [
    "class PCA:\n",
    "  def __init__(self, n_components):\n",
    "    self.n_components = n_components\n",
    "    self.components = None\n",
    "    self.mean = None\n",
    "\n",
    "  def fit(self, X):\n",
    "    #mean\n",
    "    self.mean = np.mean(X, axis=0)\n",
    "    #1 row = sample, columns = features\n",
    "    X = X - self.mean\n",
    "\n",
    "    #covariance\n",
    "    #but in documentation 1row = features, columns=samples for cov ...so we transpose our data\n",
    "    cov = np.cov(X.T)\n",
    "\n",
    "    #eigenvectors, eigenvalues\n",
    "    eigenvalues, eigenvectors = np.linalg.eig(cov)\n",
    "\n",
    "    #v[:, i]\n",
    "    #sort eigenvectors\n",
    "    eigenvectors = eigenvectors.T\n",
    "    idxs = np.argsort(eigenvalues)[::-1]\n",
    "    \n",
    "    eigenvalues = eigenvalues[idxs]\n",
    "    eigenvectors = eigenvectors[idxs]\n",
    "\n",
    "    #store first n eigenvectors\n",
    "    self.components = eigenvectors[0:self.n_components]\n",
    "\n",
    "  def transform(self, X):\n",
    "    #project data\n",
    "    X = X - self.mean\n",
    "    return(np.dot(X, self.components.T))\n",
    "\n",
    "#PCA TEST\n",
    "data = datasets.load_iris()\n",
    "X = data.data\n",
    "y = data.target\n",
    "\n",
    "#project data onto the 2 primary principal components\n",
    "pca = PCA(2)\n",
    "pca.fit(X)\n",
    "X_projected = pca.transform(X)\n",
    "\n",
    "\n",
    "\n",
    "x1 = X_projected[:,0]\n",
    "x2 = X_projected[:,1]\n",
    "\n",
    "plt.scatter(x1,x2,c=y,edgecolor='none',alpha=0.8,cmap=plt.cm.get_cmap('viridis',3))\n",
    "plt.xlabel('Principal Component 1')\n",
    "plt.ylabel('Principal Component 2')\n",
    "plt.colorbar()\n",
    "plt.show()"
   ]
  },
  {
   "cell_type": "markdown",
   "metadata": {},
   "source": [
    "# 3. Apriori Algorithm"
   ]
  },
  {
   "cell_type": "markdown",
   "metadata": {},
   "source": [
    "**Introduction to APRIORI**\n",
    "\n",
    "Apriori is an algorithm used for Association Rule Mining. It searches for a series of frequent sets of items in the datasets. It builds on associations and correlations between the itemsets. It is the algorithm behind “You may also like” where you commonly saw in recommendation platforms. What is Associate Rule Mining?\n",
    "\n",
    "ARM( Associate Rule Mining) is one of the important techniques in data science. In ARM, the frequency of patterns and associations in the dataset is identified among the item sets then used to predict the next relevant item in the set. This ARM technique is mostly used in business decisions according to customer purchases.\n",
    "\n",
    "Example: In Walmart, if Ashok buys Milk and Bread, the chances of him buying Butter are predicted by the Associate Rule Mining technique.\n",
    "\n",
    "Some definitions need to be remembered\n",
    "\n",
    "Before we start, go through some terms which are explained below.\n",
    "\n",
    "SUPPORT_COUNT — number of transactions in which the itemset appears.\n",
    "\n",
    "MINIMUM_SUPPORT_COUNT — the minimum frequency of itemset in the dataset.\n",
    "\n",
    "CANDIDATE_SET — C(k) support_count of each item in the dataset.\n",
    "\n",
    "ITEM_SET — L(k) comparing each item in the candidate_set support count to minimum_support_count and filtering the under frequent itemset.\n",
    "\n",
    "SUPPORT — the percentage of transactions in the database follow the rule.\n",
    "\n",
    "Support(A->B) = Support_count(A U B)\n",
    "\n",
    "CONFIDENCE — the percentage of customers who bought A also bought B.\n",
    "\n",
    "Confidence(A->B) = [Support_count(AUB)/Support_count(A)]*100\n",
    "\n",
    "Steps In Apriori\n",
    "\n",
    "Apriori algorithm is a sequence of steps to be followed to find the most frequent itemset in the given database. This data mining technique follows the join and the prune steps iteratively until the most frequent itemset is achieved. A minimum support threshold is given in the problem or it is assumed by the user.\n",
    "1. In the first iteration of the algorithm, each item is taken as a 1-itemsets candidate. The algorithm will count the occurrences of each item.\n",
    "\n",
    "2. Let there be some minimum support, min_sup ( eg 2). The set of 1 – itemsets whose occurrence is satisfying the min sup are determined. Only those candidates which count more than or equal to min_sup, are taken ahead for the next iteration and the others are pruned.\n",
    "\n",
    "3. Next, 2-itemset frequent items with min_sup are discovered. For this in the join step, the 2-itemset is generated by forming a group of 2 by combining items with itself.\n",
    "\n",
    "4. The 2-itemset candidates are pruned using min-sup threshold value. Now the table will have 2 –itemsets with min-sup only.\n",
    "\n",
    "5. The next iteration will form 3 –itemsets using join and prune step. This iteration will follow antimonotone property where the subsets of 3-itemsets, that is the 2 –itemset subsets of each group fall in min_sup. If all 2-itemset subsets are frequent then the superset will be frequent otherwise it is pruned.\n",
    "\n",
    "6. Next step will follow making 4-itemset by joining 3-itemset with itself and pruning if its subset does not meet the min_sup criteria. The algorithm is stopped when the most frequent itemset is achieved."
   ]
  },
  {
   "cell_type": "code",
   "execution_count": 14,
   "metadata": {
    "_kg_hide-input": true
   },
   "outputs": [
    {
     "name": "stdout",
     "output_type": "stream",
     "text": [
      "{('A', 'B'): 1, ('A', 'C'): 2, ('B', 'C'): 1}\n",
      "{('A', 'C'): 2}\n"
     ]
    }
   ],
   "source": [
    "import itertools\n",
    "import pandas as pd\n",
    "\n",
    "\n",
    "data = pd.read_csv('../input/apriori-food/data.csv')\n",
    "\n",
    "\n",
    "\n",
    "rowlength = len(data)\n",
    "no_features = len(data.values[0])\n",
    "\n",
    "minimum_support_count = 2\n",
    "\n",
    "records = []\n",
    "for i in range(0, rowlength):\n",
    "    records.append([str(data.values[i,j]) for j in range(0, no_features)])\n",
    "items = sorted([item for sublist in records for item in sublist if item != 'Nan'])\n",
    "\n",
    "#Step-->1\n",
    "def stage_1(items, minimum_support_count):\n",
    "    c1 = {i:items.count(i) for i in items}\n",
    "    l1= {}\n",
    "    \n",
    "    for key, value in c1.items():\n",
    "        if(value >= minimum_support_count):\n",
    "            l1[key] = value\n",
    "    return c1, l1\n",
    "c1, l1 = stage_1(items, minimum_support_count)\n",
    "\n",
    "\n",
    "\n",
    "def sublist(lst1,lst2):\n",
    "    return(set(lst1) <= set(lst2))\n",
    "\n",
    "def check_subset_frequency(itemset, l, n):\n",
    "    if(n>1):\n",
    "        subsets = list(itertools.combinations(itemset,n))\n",
    "    else:\n",
    "        subsets = itemset\n",
    "    for iter1 in subsets:\n",
    "        if not iter1 in l:\n",
    "            return False\n",
    "    return True\n",
    "\n",
    "def stage_2(l1, records, minimum_support_count):\n",
    "    l1 = sorted(list(l1.keys()))\n",
    "    l1 = list(itertools.combinations(l1,2))\n",
    "    c2 = {}\n",
    "    l2 = {}\n",
    "    for iter1 in l1:\n",
    "        count = 0\n",
    "        for iter2 in records:\n",
    "            if(sublist(iter1,iter2)):\n",
    "                count += 1\n",
    "        c2[iter1] = count\n",
    "    for key,value in c2.items():\n",
    "        if(value >= minimum_support_count):\n",
    "            if(check_subset_frequency(key, l1,2)):\n",
    "                l2[key] = value\n",
    "    return c2, l2\n",
    "\n",
    "c2,l2 = stage_2(l1, records, minimum_support_count)\n",
    "print(c2)\n",
    "print(l2)"
   ]
  },
  {
   "cell_type": "markdown",
   "metadata": {},
   "source": [
    "# Deep Learning\n",
    "\n",
    "# 1. Neural Network"
   ]
  },
  {
   "cell_type": "markdown",
   "metadata": {},
   "source": [
    "**A neural network is a series of algorithms that endeavors to recognize underlying relationships in a set of data through a process that mimics the way the human brain operates. In this sense, neural networks refer to systems of neurons, either organic or artificial in nature.**"
   ]
  },
  {
   "cell_type": "code",
   "execution_count": 15,
   "metadata": {
    "_kg_hide-input": false
   },
   "outputs": [
    {
     "name": "stdout",
     "output_type": "stream",
     "text": [
      "Rnadom synaptic weights: \n",
      "[[-0.16595599]\n",
      " [ 0.44064899]\n",
      " [-0.99977125]]\n",
      "Synaptic weights after training: \n",
      "[[13.38883717]\n",
      " [-0.18998542]\n",
      " [-4.49621121]]\n",
      "New situation: input data =  0 1 1\n",
      "Output data: \n",
      "[0.00913743]\n"
     ]
    }
   ],
   "source": [
    "class NeuralNetwork():\n",
    "    \n",
    "    def __init__(self):\n",
    "        np.random.seed(1)\n",
    "        self.synaptic_weights = 2*np.random.random((3,1)) - 1\n",
    "    \n",
    "    def sigmoid(self,x):\n",
    "        return(1/(1+np.exp(-x)))\n",
    "    \n",
    "    def sigmoid_derivative(self,x):\n",
    "        return(x/(1+x))\n",
    "    \n",
    "    def train(self,training_inputs, training_outputs,training_iterations):\n",
    "        for itr in range(training_iterations):\n",
    "            \n",
    "            output = self.think(training_inputs)\n",
    "            error = training_outputs - output\n",
    "            adjustments = np.dot(training_inputs.T,error*self.sigmoid_derivative(output))\n",
    "            self.synaptic_weights += adjustments\n",
    "    \n",
    "    def think(self,inputs):\n",
    "        inputs = inputs.astype(float)\n",
    "        output = self.sigmoid(np.dot(inputs,self.synaptic_weights))\n",
    "        return output\n",
    "    \n",
    "    \n",
    "\n",
    "\n",
    "#In short, use this ' if name == \"main\" ' block to prevent (certain) code from being run when the module\n",
    "#is imported. Put simply, name is a variable defined for each script that defines whether the script is \n",
    "#being run as the main module or it is being run as an imported module.\n",
    "\n",
    "\n",
    "\n",
    "if(__name__ == \"__main__\"):\n",
    "    neural_network = NeuralNetwork()\n",
    "    \n",
    "    print(\"Rnadom synaptic weights: \")\n",
    "    print(neural_network.synaptic_weights)\n",
    "    \n",
    "    training_inputs = np.array([[0,0,1],\n",
    "                                [1,1,1],\n",
    "                                [1,0,1],\n",
    "                                [0,1,1]])\n",
    "    training_outputs = np.array([[0,1,1,0]]).T\n",
    "    \n",
    "    neural_network.train(training_inputs,training_outputs,10000)\n",
    "    \n",
    "    print(\"Synaptic weights after training: \")\n",
    "    print(neural_network.synaptic_weights)\n",
    "    \n",
    "    #A = str(input('Input 1: '))\n",
    "    #B = str(input('Input 2: '))\n",
    "    #C = str(input('Input 3: '))\n",
    "    A = 0\n",
    "    B = 1\n",
    "    C = 1\n",
    "    print(\"New situation: input data = \", A, B, C)\n",
    "    print(\"Output data: \")\n",
    "    print(neural_network.think(np.array([A,B,C])))"
   ]
  },
  {
   "cell_type": "markdown",
   "metadata": {},
   "source": [
    "# Searching Algorithm\n",
    "\n",
    "# 1. BFS"
   ]
  },
  {
   "cell_type": "markdown",
   "metadata": {},
   "source": [
    "**BFS is a traversing algorithm where you should start traversing from a selected node (source or starting node) and traverse the graph layerwise thus exploring the neighbour nodes (nodes which are directly connected to source node).**"
   ]
  },
  {
   "cell_type": "code",
   "execution_count": 16,
   "metadata": {
    "_kg_hide-input": false
   },
   "outputs": [
    {
     "name": "stdout",
     "output_type": "stream",
     "text": [
      "breadth first search starting from vertex 's'\n",
      "0 1 2 4 3 6 5 "
     ]
    }
   ],
   "source": [
    "from collections import defaultdict\n",
    "\n",
    "class Graph:\n",
    "    \n",
    "    #Constructor\n",
    "    def __init__(self):\n",
    "        \n",
    "        #deafault dictionary to store graph\n",
    "        self.graph = defaultdict(list)\n",
    "        \n",
    "    #function to add an edge to graph\n",
    "    def addEdge(self,u,v):\n",
    "        self.graph[u].append(v)\n",
    "            \n",
    "    #Function to print a BFS of graph\n",
    "    def BFS(self,s):\n",
    "        #Mark all the vertices as not visited\n",
    "        visited = [False]*(len(self.graph))\n",
    "            \n",
    "        #create a queue for BFS\n",
    "        queue = []\n",
    "            \n",
    "        #Mark the source node as visited and enqueue it\n",
    "        queue.append(s)\n",
    "        visited[s] = True\n",
    "            \n",
    "        while queue:\n",
    "            #Dequeue a vertex from queue and print it\n",
    "            s = queue.pop(0)\n",
    "            print(s,end=\" \")\n",
    "                \n",
    "            #Get all adjacent vertices of the dequeued vertex s\n",
    "            #If a adjacent has not been visited, then mark it visited and enqueue it\n",
    "            for i in self.graph[s]:\n",
    "                if visited[i]==False:\n",
    "                    queue.append(i)\n",
    "                    visited[i] = True\n",
    "\n",
    "#Create a graph given in the above diagram\n",
    "g = Graph()\n",
    "g.addEdge(0,1)\n",
    "g.addEdge(0,2)\n",
    "\n",
    "g.addEdge(1,2)\n",
    "g.addEdge(1,4)\n",
    "\n",
    "g.addEdge(2,3)\n",
    "g.addEdge(3,5)\n",
    "\n",
    "g.addEdge(4,6)\n",
    "\n",
    "g.addEdge(5,5)\n",
    "g.addEdge(6,6)\n",
    "\n",
    "\n",
    "\n",
    "print(\"breadth first search starting from vertex 's'\")\n",
    "g.BFS(0)"
   ]
  },
  {
   "cell_type": "markdown",
   "metadata": {},
   "source": [
    "# 2. DFS"
   ]
  },
  {
   "cell_type": "markdown",
   "metadata": {},
   "source": [
    "**Depth-first search (DFS) is an algorithm for traversing or searching tree or graph data structures. The algorithm starts at the root node (selecting some arbitrary node as the root node in the case of a graph) and explores as far as possible along each branch before backtracking. **"
   ]
  },
  {
   "cell_type": "code",
   "execution_count": 17,
   "metadata": {
    "_kg_hide-input": false
   },
   "outputs": [
    {
     "name": "stdout",
     "output_type": "stream",
     "text": [
      "Following is Depth First Traversal (starting from vertex 2)\n",
      "0 1 2 3 5 4 6 "
     ]
    }
   ],
   "source": [
    "from collections import defaultdict\n",
    "\n",
    "class Graph:\n",
    "    def __init__(self):\n",
    "        #default dictionary\n",
    "        self.graph = defaultdict(list)\n",
    "    #function to add an edge to graph\n",
    "    def addEdge(self,u,v):\n",
    "        self.graph[u].append(v)\n",
    "        \n",
    "    #function used by DFS\n",
    "    def DFSUtil(self,v,visited):\n",
    "        # Mark the current node as visited and print it\n",
    "        visited[v] = True\n",
    "        print(v,end=' ')\n",
    "        \n",
    "        # Recur for all the vertices\n",
    "        # adjacent to this vertex\n",
    "        for i in self.graph[v]:\n",
    "            if visited[i] == False:\n",
    "                self.DFSUtil(i,visited)\n",
    "                \n",
    "    # The function to do DFS traversal. It uses recursive DFSUtil()\n",
    "    def DFS(self,v):\n",
    "        # Mark all the vertices as not visited\n",
    "        visited = [False] * (len(self.graph))\n",
    "        \n",
    "        #call the recursive helper function to print DFS traversal\n",
    "        self.DFSUtil(v,visited)\n",
    "        \n",
    "\n",
    "\n",
    "# the above diagram \n",
    "g = Graph()\n",
    "g.addEdge(0,1)\n",
    "g.addEdge(0,2)\n",
    "\n",
    "g.addEdge(1,2)\n",
    "g.addEdge(1,4)\n",
    "\n",
    "g.addEdge(2,3)\n",
    "g.addEdge(3,5)\n",
    "\n",
    "g.addEdge(4,6)\n",
    "\n",
    "g.addEdge(5,5)\n",
    "g.addEdge(6,6)\n",
    "  \n",
    "print (\"Following is Depth First Traversal\"\n",
    "                  \" (starting from vertex 2)\") \n",
    "g.DFS(0)      \n"
   ]
  }
 ],
 "metadata": {
  "kernelspec": {
   "display_name": "Python 3",
   "language": "python",
   "name": "python3"
  },
  "language_info": {
   "codemirror_mode": {
    "name": "ipython",
    "version": 3
   },
   "file_extension": ".py",
   "mimetype": "text/x-python",
   "name": "python",
   "nbconvert_exporter": "python",
   "pygments_lexer": "ipython3",
   "version": "3.6.6"
  }
 },
 "nbformat": 4,
 "nbformat_minor": 4
}
