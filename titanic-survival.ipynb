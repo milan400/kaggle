{
 "cells": [
  {
   "cell_type": "code",
   "execution_count": 1,
   "metadata": {
    "_cell_guid": "b1076dfc-b9ad-4769-8c92-a6c4dae69d19",
    "_uuid": "8f2839f25d086af736a60e9eeb907d3b93b6e0e5"
   },
   "outputs": [
    {
     "name": "stdout",
     "output_type": "stream",
     "text": [
      "/kaggle/input/titanic/train.csv\n",
      "/kaggle/input/titanic/gender_submission.csv\n",
      "/kaggle/input/titanic/test.csv\n"
     ]
    }
   ],
   "source": [
    "import numpy as np # linear algebra\n",
    "import pandas as pd # data processing, CSV file I/O (e.g. pd.read_csv)\n",
    "\n",
    "\n",
    "import os\n",
    "for dirname, _, filenames in os.walk('/kaggle/input'):\n",
    "    for filename in filenames:\n",
    "        print(os.path.join(dirname, filename))\n",
    "\n",
    "# Any results you write to the current directory are saved as output."
   ]
  },
  {
   "cell_type": "code",
   "execution_count": 2,
   "metadata": {
    "_cell_guid": "79c7e3d0-c299-4dcb-8224-4455121ee9b0",
    "_uuid": "d629ff2d2480ee46fbb7e2d37f6b5fab8052498a"
   },
   "outputs": [],
   "source": [
    "train_data = pd.read_csv('/kaggle/input/titanic/train.csv')\n",
    "test_data = pd.read_csv('/kaggle/input/titanic/test.csv')"
   ]
  },
  {
   "cell_type": "code",
   "execution_count": 3,
   "metadata": {},
   "outputs": [],
   "source": [
    "train_data = train_data.drop(columns=['Name','Cabin'])\n",
    "train_data['family_member'] = train_data['SibSp'] + train_data['Parch']\n",
    "train_data = train_data.drop(columns=['SibSp', 'Parch'])"
   ]
  },
  {
   "cell_type": "code",
   "execution_count": 4,
   "metadata": {},
   "outputs": [],
   "source": [
    "test_data = test_data.drop(columns=['Name','Cabin'])\n",
    "test_data['family_member'] = test_data['SibSp'] + test_data['Parch']\n",
    "test_data = test_data.drop(columns=['SibSp', 'Parch'])"
   ]
  },
  {
   "cell_type": "markdown",
   "metadata": {},
   "source": [
    "Percentage of column ith missing "
   ]
  },
  {
   "cell_type": "markdown",
   "metadata": {},
   "source": [
    "**Remove Cabin as it contains many Nan Data**"
   ]
  },
  {
   "cell_type": "code",
   "execution_count": 5,
   "metadata": {},
   "outputs": [],
   "source": [
    "train_data.fillna(0,inplace=True)\n",
    "test_data.fillna(0,inplace=True)"
   ]
  },
  {
   "cell_type": "markdown",
   "metadata": {},
   "source": [
    "**Splitting labels and target**"
   ]
  },
  {
   "cell_type": "code",
   "execution_count": 6,
   "metadata": {},
   "outputs": [],
   "source": [
    "X = train_data.drop(columns=['Survived'])\n",
    "Y = train_data['Survived']\n",
    "\n",
    "\n",
    "\n",
    "#choose the features we want to train, just forget the float data\n",
    "cate_features_index = np.where(X.dtypes != float)[0]\n"
   ]
  },
  {
   "cell_type": "code",
   "execution_count": 7,
   "metadata": {},
   "outputs": [],
   "source": [
    "from catboost import CatBoostClassifier, cv, Pool"
   ]
  },
  {
   "cell_type": "code",
   "execution_count": 8,
   "metadata": {},
   "outputs": [],
   "source": [
    "from sklearn.model_selection import train_test_split"
   ]
  },
  {
   "cell_type": "code",
   "execution_count": 9,
   "metadata": {},
   "outputs": [],
   "source": [
    "#make the x for train and test (also called validation data) \n",
    "xtrain,xtest,ytrain,ytest = train_test_split(X,Y,train_size=0.82,random_state=42)"
   ]
  },
  {
   "cell_type": "code",
   "execution_count": 10,
   "metadata": {},
   "outputs": [],
   "source": [
    "clf =CatBoostClassifier(eval_metric='Accuracy',use_best_model=True,random_seed=42)"
   ]
  },
  {
   "cell_type": "markdown",
   "metadata": {},
   "source": [
    "**kfOLD validation**"
   ]
  },
  {
   "cell_type": "code",
   "execution_count": 11,
   "metadata": {
    "_kg_hide-output": true
   },
   "outputs": [
    {
     "name": "stdout",
     "output_type": "stream",
     "text": [
      "Learning rate set to 0.029319\n",
      "0:\tlearn: 0.8068493\ttest: 0.8012422\tbest: 0.8012422 (0)\ttotal: 60.6ms\tremaining: 1m\n",
      "1:\tlearn: 0.8068493\ttest: 0.8074534\tbest: 0.8074534 (1)\ttotal: 65.4ms\tremaining: 32.6s\n",
      "2:\tlearn: 0.8109589\ttest: 0.8074534\tbest: 0.8074534 (1)\ttotal: 67.3ms\tremaining: 22.4s\n",
      "3:\tlearn: 0.8109589\ttest: 0.8012422\tbest: 0.8074534 (1)\ttotal: 70.5ms\tremaining: 17.6s\n",
      "4:\tlearn: 0.8109589\ttest: 0.8012422\tbest: 0.8074534 (1)\ttotal: 74.3ms\tremaining: 14.8s\n",
      "5:\tlearn: 0.8082192\ttest: 0.8012422\tbest: 0.8074534 (1)\ttotal: 77.5ms\tremaining: 12.8s\n",
      "6:\tlearn: 0.8095890\ttest: 0.7950311\tbest: 0.8074534 (1)\ttotal: 82.7ms\tremaining: 11.7s\n",
      "7:\tlearn: 0.8178082\ttest: 0.8074534\tbest: 0.8074534 (1)\ttotal: 86.1ms\tremaining: 10.7s\n",
      "8:\tlearn: 0.8164384\ttest: 0.8074534\tbest: 0.8074534 (1)\ttotal: 89.3ms\tremaining: 9.83s\n",
      "9:\tlearn: 0.8178082\ttest: 0.8136646\tbest: 0.8136646 (9)\ttotal: 92.8ms\tremaining: 9.19s\n",
      "10:\tlearn: 0.8178082\ttest: 0.8136646\tbest: 0.8136646 (9)\ttotal: 96.7ms\tremaining: 8.7s\n",
      "11:\tlearn: 0.8123288\ttest: 0.8136646\tbest: 0.8136646 (9)\ttotal: 100ms\tremaining: 8.25s\n",
      "12:\tlearn: 0.8123288\ttest: 0.8136646\tbest: 0.8136646 (9)\ttotal: 104ms\tremaining: 7.91s\n",
      "13:\tlearn: 0.8136986\ttest: 0.8198758\tbest: 0.8198758 (13)\ttotal: 107ms\tremaining: 7.56s\n",
      "14:\tlearn: 0.8150685\ttest: 0.8198758\tbest: 0.8198758 (13)\ttotal: 111ms\tremaining: 7.26s\n",
      "15:\tlearn: 0.8150685\ttest: 0.8136646\tbest: 0.8198758 (13)\ttotal: 114ms\tremaining: 6.99s\n",
      "16:\tlearn: 0.8164384\ttest: 0.8074534\tbest: 0.8198758 (13)\ttotal: 117ms\tremaining: 6.74s\n",
      "17:\tlearn: 0.8191781\ttest: 0.8074534\tbest: 0.8198758 (13)\ttotal: 120ms\tremaining: 6.54s\n",
      "18:\tlearn: 0.8191781\ttest: 0.8074534\tbest: 0.8198758 (13)\ttotal: 123ms\tremaining: 6.36s\n",
      "19:\tlearn: 0.8246575\ttest: 0.8074534\tbest: 0.8198758 (13)\ttotal: 127ms\tremaining: 6.21s\n",
      "20:\tlearn: 0.8246575\ttest: 0.8074534\tbest: 0.8198758 (13)\ttotal: 130ms\tremaining: 6.05s\n",
      "21:\tlearn: 0.8246575\ttest: 0.8074534\tbest: 0.8198758 (13)\ttotal: 133ms\tremaining: 5.92s\n",
      "22:\tlearn: 0.8287671\ttest: 0.8012422\tbest: 0.8198758 (13)\ttotal: 137ms\tremaining: 5.81s\n",
      "23:\tlearn: 0.8273973\ttest: 0.8012422\tbest: 0.8198758 (13)\ttotal: 140ms\tremaining: 5.69s\n",
      "24:\tlearn: 0.8260274\ttest: 0.8012422\tbest: 0.8198758 (13)\ttotal: 143ms\tremaining: 5.56s\n",
      "25:\tlearn: 0.8301370\ttest: 0.8012422\tbest: 0.8198758 (13)\ttotal: 146ms\tremaining: 5.47s\n",
      "26:\tlearn: 0.8260274\ttest: 0.8012422\tbest: 0.8198758 (13)\ttotal: 149ms\tremaining: 5.37s\n",
      "27:\tlearn: 0.8260274\ttest: 0.8012422\tbest: 0.8198758 (13)\ttotal: 153ms\tremaining: 5.3s\n",
      "28:\tlearn: 0.8260274\ttest: 0.8012422\tbest: 0.8198758 (13)\ttotal: 156ms\tremaining: 5.23s\n",
      "29:\tlearn: 0.8287671\ttest: 0.8012422\tbest: 0.8198758 (13)\ttotal: 160ms\tremaining: 5.17s\n",
      "30:\tlearn: 0.8273973\ttest: 0.8012422\tbest: 0.8198758 (13)\ttotal: 163ms\tremaining: 5.1s\n",
      "31:\tlearn: 0.8287671\ttest: 0.8012422\tbest: 0.8198758 (13)\ttotal: 167ms\tremaining: 5.05s\n",
      "32:\tlearn: 0.8287671\ttest: 0.8012422\tbest: 0.8198758 (13)\ttotal: 169ms\tremaining: 4.95s\n",
      "33:\tlearn: 0.8315068\ttest: 0.8012422\tbest: 0.8198758 (13)\ttotal: 172ms\tremaining: 4.9s\n",
      "34:\tlearn: 0.8301370\ttest: 0.8012422\tbest: 0.8198758 (13)\ttotal: 175ms\tremaining: 4.83s\n",
      "35:\tlearn: 0.8287671\ttest: 0.8074534\tbest: 0.8198758 (13)\ttotal: 178ms\tremaining: 4.77s\n",
      "36:\tlearn: 0.8287671\ttest: 0.8074534\tbest: 0.8198758 (13)\ttotal: 181ms\tremaining: 4.72s\n",
      "37:\tlearn: 0.8301370\ttest: 0.8074534\tbest: 0.8198758 (13)\ttotal: 182ms\tremaining: 4.62s\n",
      "38:\tlearn: 0.8301370\ttest: 0.8074534\tbest: 0.8198758 (13)\ttotal: 186ms\tremaining: 4.59s\n",
      "39:\tlearn: 0.8287671\ttest: 0.8136646\tbest: 0.8198758 (13)\ttotal: 191ms\tremaining: 4.58s\n",
      "40:\tlearn: 0.8315068\ttest: 0.8136646\tbest: 0.8198758 (13)\ttotal: 194ms\tremaining: 4.55s\n",
      "41:\tlearn: 0.8328767\ttest: 0.8136646\tbest: 0.8198758 (13)\ttotal: 199ms\tremaining: 4.54s\n",
      "42:\tlearn: 0.8315068\ttest: 0.8136646\tbest: 0.8198758 (13)\ttotal: 202ms\tremaining: 4.5s\n",
      "43:\tlearn: 0.8342466\ttest: 0.8136646\tbest: 0.8198758 (13)\ttotal: 206ms\tremaining: 4.47s\n",
      "44:\tlearn: 0.8342466\ttest: 0.8136646\tbest: 0.8198758 (13)\ttotal: 210ms\tremaining: 4.46s\n",
      "45:\tlearn: 0.8369863\ttest: 0.8136646\tbest: 0.8198758 (13)\ttotal: 214ms\tremaining: 4.44s\n",
      "46:\tlearn: 0.8369863\ttest: 0.8136646\tbest: 0.8198758 (13)\ttotal: 218ms\tremaining: 4.43s\n",
      "47:\tlearn: 0.8369863\ttest: 0.8198758\tbest: 0.8198758 (13)\ttotal: 222ms\tremaining: 4.41s\n",
      "48:\tlearn: 0.8369863\ttest: 0.8198758\tbest: 0.8198758 (13)\ttotal: 226ms\tremaining: 4.39s\n",
      "49:\tlearn: 0.8369863\ttest: 0.8198758\tbest: 0.8198758 (13)\ttotal: 230ms\tremaining: 4.36s\n",
      "50:\tlearn: 0.8356164\ttest: 0.8198758\tbest: 0.8198758 (13)\ttotal: 233ms\tremaining: 4.33s\n",
      "51:\tlearn: 0.8356164\ttest: 0.8198758\tbest: 0.8198758 (13)\ttotal: 237ms\tremaining: 4.32s\n",
      "52:\tlearn: 0.8369863\ttest: 0.8198758\tbest: 0.8198758 (13)\ttotal: 241ms\tremaining: 4.3s\n",
      "53:\tlearn: 0.8369863\ttest: 0.8198758\tbest: 0.8198758 (13)\ttotal: 243ms\tremaining: 4.26s\n",
      "54:\tlearn: 0.8369863\ttest: 0.8198758\tbest: 0.8198758 (13)\ttotal: 247ms\tremaining: 4.24s\n",
      "55:\tlearn: 0.8383562\ttest: 0.8198758\tbest: 0.8198758 (13)\ttotal: 250ms\tremaining: 4.22s\n",
      "56:\tlearn: 0.8383562\ttest: 0.8198758\tbest: 0.8198758 (13)\ttotal: 254ms\tremaining: 4.2s\n",
      "57:\tlearn: 0.8383562\ttest: 0.8260870\tbest: 0.8260870 (57)\ttotal: 257ms\tremaining: 4.18s\n",
      "58:\tlearn: 0.8383562\ttest: 0.8260870\tbest: 0.8260870 (57)\ttotal: 262ms\tremaining: 4.17s\n",
      "59:\tlearn: 0.8397260\ttest: 0.8260870\tbest: 0.8260870 (57)\ttotal: 265ms\tremaining: 4.15s\n",
      "60:\tlearn: 0.8383562\ttest: 0.8260870\tbest: 0.8260870 (57)\ttotal: 269ms\tremaining: 4.14s\n",
      "61:\tlearn: 0.8383562\ttest: 0.8322981\tbest: 0.8322981 (61)\ttotal: 272ms\tremaining: 4.11s\n",
      "62:\tlearn: 0.8397260\ttest: 0.8322981\tbest: 0.8322981 (61)\ttotal: 275ms\tremaining: 4.09s\n",
      "63:\tlearn: 0.8410959\ttest: 0.8322981\tbest: 0.8322981 (61)\ttotal: 278ms\tremaining: 4.07s\n",
      "64:\tlearn: 0.8410959\ttest: 0.8322981\tbest: 0.8322981 (61)\ttotal: 281ms\tremaining: 4.04s\n",
      "65:\tlearn: 0.8397260\ttest: 0.8322981\tbest: 0.8322981 (61)\ttotal: 284ms\tremaining: 4.02s\n",
      "66:\tlearn: 0.8397260\ttest: 0.8322981\tbest: 0.8322981 (61)\ttotal: 287ms\tremaining: 4s\n",
      "67:\tlearn: 0.8369863\ttest: 0.8322981\tbest: 0.8322981 (61)\ttotal: 288ms\tremaining: 3.95s\n",
      "68:\tlearn: 0.8383562\ttest: 0.8322981\tbest: 0.8322981 (61)\ttotal: 292ms\tremaining: 3.94s\n",
      "69:\tlearn: 0.8383562\ttest: 0.8322981\tbest: 0.8322981 (61)\ttotal: 296ms\tremaining: 3.94s\n",
      "70:\tlearn: 0.8356164\ttest: 0.8322981\tbest: 0.8322981 (61)\ttotal: 300ms\tremaining: 3.92s\n",
      "71:\tlearn: 0.8438356\ttest: 0.8385093\tbest: 0.8385093 (71)\ttotal: 303ms\tremaining: 3.9s\n",
      "72:\tlearn: 0.8438356\ttest: 0.8385093\tbest: 0.8385093 (71)\ttotal: 305ms\tremaining: 3.87s\n",
      "73:\tlearn: 0.8438356\ttest: 0.8385093\tbest: 0.8385093 (71)\ttotal: 309ms\tremaining: 3.86s\n",
      "74:\tlearn: 0.8452055\ttest: 0.8385093\tbest: 0.8385093 (71)\ttotal: 313ms\tremaining: 3.86s\n",
      "75:\tlearn: 0.8452055\ttest: 0.8385093\tbest: 0.8385093 (71)\ttotal: 317ms\tremaining: 3.85s\n",
      "76:\tlearn: 0.8438356\ttest: 0.8385093\tbest: 0.8385093 (71)\ttotal: 321ms\tremaining: 3.85s\n",
      "77:\tlearn: 0.8438356\ttest: 0.8385093\tbest: 0.8385093 (71)\ttotal: 325ms\tremaining: 3.84s\n",
      "78:\tlearn: 0.8438356\ttest: 0.8385093\tbest: 0.8385093 (71)\ttotal: 329ms\tremaining: 3.83s\n",
      "79:\tlearn: 0.8452055\ttest: 0.8385093\tbest: 0.8385093 (71)\ttotal: 332ms\tremaining: 3.82s\n",
      "80:\tlearn: 0.8452055\ttest: 0.8385093\tbest: 0.8385093 (71)\ttotal: 334ms\tremaining: 3.79s\n",
      "81:\tlearn: 0.8452055\ttest: 0.8385093\tbest: 0.8385093 (71)\ttotal: 337ms\tremaining: 3.77s\n",
      "82:\tlearn: 0.8479452\ttest: 0.8385093\tbest: 0.8385093 (71)\ttotal: 340ms\tremaining: 3.76s\n",
      "83:\tlearn: 0.8479452\ttest: 0.8385093\tbest: 0.8385093 (71)\ttotal: 344ms\tremaining: 3.75s\n",
      "84:\tlearn: 0.8493151\ttest: 0.8385093\tbest: 0.8385093 (71)\ttotal: 347ms\tremaining: 3.74s\n",
      "85:\tlearn: 0.8506849\ttest: 0.8385093\tbest: 0.8385093 (71)\ttotal: 350ms\tremaining: 3.73s\n",
      "86:\tlearn: 0.8520548\ttest: 0.8385093\tbest: 0.8385093 (71)\ttotal: 354ms\tremaining: 3.71s\n",
      "87:\tlearn: 0.8520548\ttest: 0.8385093\tbest: 0.8385093 (71)\ttotal: 357ms\tremaining: 3.69s\n",
      "88:\tlearn: 0.8506849\ttest: 0.8385093\tbest: 0.8385093 (71)\ttotal: 360ms\tremaining: 3.69s\n",
      "89:\tlearn: 0.8506849\ttest: 0.8385093\tbest: 0.8385093 (71)\ttotal: 364ms\tremaining: 3.68s\n",
      "90:\tlearn: 0.8506849\ttest: 0.8385093\tbest: 0.8385093 (71)\ttotal: 367ms\tremaining: 3.67s\n",
      "91:\tlearn: 0.8493151\ttest: 0.8385093\tbest: 0.8385093 (71)\ttotal: 370ms\tremaining: 3.65s\n",
      "92:\tlearn: 0.8506849\ttest: 0.8385093\tbest: 0.8385093 (71)\ttotal: 373ms\tremaining: 3.64s\n",
      "93:\tlearn: 0.8520548\ttest: 0.8385093\tbest: 0.8385093 (71)\ttotal: 376ms\tremaining: 3.62s\n",
      "94:\tlearn: 0.8520548\ttest: 0.8385093\tbest: 0.8385093 (71)\ttotal: 379ms\tremaining: 3.61s\n",
      "95:\tlearn: 0.8520548\ttest: 0.8385093\tbest: 0.8385093 (71)\ttotal: 381ms\tremaining: 3.59s\n",
      "96:\tlearn: 0.8520548\ttest: 0.8385093\tbest: 0.8385093 (71)\ttotal: 384ms\tremaining: 3.57s\n",
      "97:\tlearn: 0.8520548\ttest: 0.8385093\tbest: 0.8385093 (71)\ttotal: 387ms\tremaining: 3.56s\n",
      "98:\tlearn: 0.8506849\ttest: 0.8385093\tbest: 0.8385093 (71)\ttotal: 389ms\tremaining: 3.54s\n",
      "99:\tlearn: 0.8547945\ttest: 0.8385093\tbest: 0.8385093 (71)\ttotal: 392ms\tremaining: 3.52s\n",
      "100:\tlearn: 0.8547945\ttest: 0.8385093\tbest: 0.8385093 (71)\ttotal: 395ms\tremaining: 3.52s\n",
      "101:\tlearn: 0.8534247\ttest: 0.8385093\tbest: 0.8385093 (71)\ttotal: 397ms\tremaining: 3.49s\n",
      "102:\tlearn: 0.8534247\ttest: 0.8385093\tbest: 0.8385093 (71)\ttotal: 397ms\tremaining: 3.46s\n",
      "103:\tlearn: 0.8547945\ttest: 0.8385093\tbest: 0.8385093 (71)\ttotal: 399ms\tremaining: 3.44s\n",
      "104:\tlearn: 0.8547945\ttest: 0.8385093\tbest: 0.8385093 (71)\ttotal: 401ms\tremaining: 3.42s\n",
      "105:\tlearn: 0.8547945\ttest: 0.8385093\tbest: 0.8385093 (71)\ttotal: 406ms\tremaining: 3.42s\n",
      "106:\tlearn: 0.8547945\ttest: 0.8385093\tbest: 0.8385093 (71)\ttotal: 409ms\tremaining: 3.41s\n",
      "107:\tlearn: 0.8561644\ttest: 0.8385093\tbest: 0.8385093 (71)\ttotal: 413ms\tremaining: 3.41s\n",
      "108:\tlearn: 0.8561644\ttest: 0.8385093\tbest: 0.8385093 (71)\ttotal: 414ms\tremaining: 3.39s\n",
      "109:\tlearn: 0.8561644\ttest: 0.8385093\tbest: 0.8385093 (71)\ttotal: 417ms\tremaining: 3.38s\n",
      "110:\tlearn: 0.8561644\ttest: 0.8385093\tbest: 0.8385093 (71)\ttotal: 421ms\tremaining: 3.37s\n",
      "111:\tlearn: 0.8547945\ttest: 0.8447205\tbest: 0.8447205 (111)\ttotal: 424ms\tremaining: 3.36s\n",
      "112:\tlearn: 0.8520548\ttest: 0.8447205\tbest: 0.8447205 (111)\ttotal: 427ms\tremaining: 3.35s\n",
      "113:\tlearn: 0.8561644\ttest: 0.8447205\tbest: 0.8447205 (111)\ttotal: 430ms\tremaining: 3.34s\n",
      "114:\tlearn: 0.8561644\ttest: 0.8447205\tbest: 0.8447205 (111)\ttotal: 431ms\tremaining: 3.32s\n",
      "115:\tlearn: 0.8575342\ttest: 0.8385093\tbest: 0.8447205 (111)\ttotal: 435ms\tremaining: 3.31s\n",
      "116:\tlearn: 0.8575342\ttest: 0.8385093\tbest: 0.8447205 (111)\ttotal: 436ms\tremaining: 3.29s\n",
      "117:\tlearn: 0.8575342\ttest: 0.8385093\tbest: 0.8447205 (111)\ttotal: 439ms\tremaining: 3.28s\n",
      "118:\tlearn: 0.8575342\ttest: 0.8385093\tbest: 0.8447205 (111)\ttotal: 443ms\tremaining: 3.28s\n",
      "119:\tlearn: 0.8561644\ttest: 0.8385093\tbest: 0.8447205 (111)\ttotal: 446ms\tremaining: 3.27s\n",
      "120:\tlearn: 0.8589041\ttest: 0.8385093\tbest: 0.8447205 (111)\ttotal: 450ms\tremaining: 3.27s\n",
      "121:\tlearn: 0.8589041\ttest: 0.8385093\tbest: 0.8447205 (111)\ttotal: 454ms\tremaining: 3.26s\n",
      "122:\tlearn: 0.8589041\ttest: 0.8385093\tbest: 0.8447205 (111)\ttotal: 454ms\tremaining: 3.24s\n",
      "123:\tlearn: 0.8589041\ttest: 0.8385093\tbest: 0.8447205 (111)\ttotal: 459ms\tremaining: 3.24s\n",
      "124:\tlearn: 0.8589041\ttest: 0.8385093\tbest: 0.8447205 (111)\ttotal: 462ms\tremaining: 3.23s\n",
      "125:\tlearn: 0.8589041\ttest: 0.8385093\tbest: 0.8447205 (111)\ttotal: 463ms\tremaining: 3.21s\n",
      "126:\tlearn: 0.8589041\ttest: 0.8385093\tbest: 0.8447205 (111)\ttotal: 466ms\tremaining: 3.2s\n",
      "127:\tlearn: 0.8589041\ttest: 0.8447205\tbest: 0.8447205 (111)\ttotal: 469ms\tremaining: 3.2s\n",
      "128:\tlearn: 0.8589041\ttest: 0.8447205\tbest: 0.8447205 (111)\ttotal: 472ms\tremaining: 3.19s\n",
      "129:\tlearn: 0.8589041\ttest: 0.8447205\tbest: 0.8447205 (111)\ttotal: 476ms\tremaining: 3.18s\n",
      "130:\tlearn: 0.8602740\ttest: 0.8447205\tbest: 0.8447205 (111)\ttotal: 479ms\tremaining: 3.18s\n",
      "131:\tlearn: 0.8616438\ttest: 0.8447205\tbest: 0.8447205 (111)\ttotal: 483ms\tremaining: 3.17s\n",
      "132:\tlearn: 0.8616438\ttest: 0.8447205\tbest: 0.8447205 (111)\ttotal: 487ms\tremaining: 3.17s\n",
      "133:\tlearn: 0.8616438\ttest: 0.8509317\tbest: 0.8509317 (133)\ttotal: 491ms\tremaining: 3.17s\n",
      "134:\tlearn: 0.8616438\ttest: 0.8509317\tbest: 0.8509317 (133)\ttotal: 495ms\tremaining: 3.17s\n",
      "135:\tlearn: 0.8616438\ttest: 0.8509317\tbest: 0.8509317 (133)\ttotal: 499ms\tremaining: 3.17s\n",
      "136:\tlearn: 0.8616438\ttest: 0.8509317\tbest: 0.8509317 (133)\ttotal: 502ms\tremaining: 3.16s\n",
      "137:\tlearn: 0.8616438\ttest: 0.8509317\tbest: 0.8509317 (133)\ttotal: 507ms\tremaining: 3.16s\n",
      "138:\tlearn: 0.8616438\ttest: 0.8509317\tbest: 0.8509317 (133)\ttotal: 509ms\tremaining: 3.15s\n",
      "139:\tlearn: 0.8616438\ttest: 0.8509317\tbest: 0.8509317 (133)\ttotal: 512ms\tremaining: 3.15s\n",
      "140:\tlearn: 0.8616438\ttest: 0.8509317\tbest: 0.8509317 (133)\ttotal: 513ms\tremaining: 3.13s\n",
      "141:\tlearn: 0.8616438\ttest: 0.8509317\tbest: 0.8509317 (133)\ttotal: 516ms\tremaining: 3.12s\n",
      "142:\tlearn: 0.8616438\ttest: 0.8509317\tbest: 0.8509317 (133)\ttotal: 518ms\tremaining: 3.1s\n",
      "143:\tlearn: 0.8616438\ttest: 0.8509317\tbest: 0.8509317 (133)\ttotal: 522ms\tremaining: 3.1s\n",
      "144:\tlearn: 0.8616438\ttest: 0.8509317\tbest: 0.8509317 (133)\ttotal: 526ms\tremaining: 3.1s\n",
      "145:\tlearn: 0.8630137\ttest: 0.8509317\tbest: 0.8509317 (133)\ttotal: 529ms\tremaining: 3.1s\n",
      "146:\tlearn: 0.8630137\ttest: 0.8509317\tbest: 0.8509317 (133)\ttotal: 531ms\tremaining: 3.08s\n",
      "147:\tlearn: 0.8630137\ttest: 0.8509317\tbest: 0.8509317 (133)\ttotal: 535ms\tremaining: 3.08s\n",
      "148:\tlearn: 0.8630137\ttest: 0.8509317\tbest: 0.8509317 (133)\ttotal: 536ms\tremaining: 3.06s\n",
      "149:\tlearn: 0.8630137\ttest: 0.8509317\tbest: 0.8509317 (133)\ttotal: 537ms\tremaining: 3.04s\n",
      "150:\tlearn: 0.8630137\ttest: 0.8509317\tbest: 0.8509317 (133)\ttotal: 541ms\tremaining: 3.04s\n",
      "151:\tlearn: 0.8630137\ttest: 0.8509317\tbest: 0.8509317 (133)\ttotal: 544ms\tremaining: 3.04s\n",
      "152:\tlearn: 0.8630137\ttest: 0.8509317\tbest: 0.8509317 (133)\ttotal: 547ms\tremaining: 3.03s\n",
      "153:\tlearn: 0.8630137\ttest: 0.8509317\tbest: 0.8509317 (133)\ttotal: 550ms\tremaining: 3.02s\n",
      "154:\tlearn: 0.8630137\ttest: 0.8509317\tbest: 0.8509317 (133)\ttotal: 551ms\tremaining: 3s\n",
      "155:\tlearn: 0.8630137\ttest: 0.8509317\tbest: 0.8509317 (133)\ttotal: 554ms\tremaining: 3s\n",
      "156:\tlearn: 0.8630137\ttest: 0.8509317\tbest: 0.8509317 (133)\ttotal: 558ms\tremaining: 3s\n",
      "157:\tlearn: 0.8630137\ttest: 0.8509317\tbest: 0.8509317 (133)\ttotal: 563ms\tremaining: 3s\n",
      "158:\tlearn: 0.8630137\ttest: 0.8509317\tbest: 0.8509317 (133)\ttotal: 566ms\tremaining: 2.99s\n",
      "159:\tlearn: 0.8630137\ttest: 0.8509317\tbest: 0.8509317 (133)\ttotal: 569ms\tremaining: 2.99s\n",
      "160:\tlearn: 0.8630137\ttest: 0.8509317\tbest: 0.8509317 (133)\ttotal: 571ms\tremaining: 2.97s\n",
      "161:\tlearn: 0.8630137\ttest: 0.8509317\tbest: 0.8509317 (133)\ttotal: 572ms\tremaining: 2.96s\n",
      "162:\tlearn: 0.8630137\ttest: 0.8509317\tbest: 0.8509317 (133)\ttotal: 575ms\tremaining: 2.95s\n",
      "163:\tlearn: 0.8630137\ttest: 0.8509317\tbest: 0.8509317 (133)\ttotal: 579ms\tremaining: 2.95s\n",
      "164:\tlearn: 0.8630137\ttest: 0.8509317\tbest: 0.8509317 (133)\ttotal: 583ms\tremaining: 2.95s\n",
      "165:\tlearn: 0.8630137\ttest: 0.8509317\tbest: 0.8509317 (133)\ttotal: 586ms\tremaining: 2.94s\n",
      "166:\tlearn: 0.8630137\ttest: 0.8509317\tbest: 0.8509317 (133)\ttotal: 589ms\tremaining: 2.94s\n",
      "167:\tlearn: 0.8643836\ttest: 0.8509317\tbest: 0.8509317 (133)\ttotal: 593ms\tremaining: 2.94s\n",
      "168:\tlearn: 0.8643836\ttest: 0.8509317\tbest: 0.8509317 (133)\ttotal: 596ms\tremaining: 2.93s\n",
      "169:\tlearn: 0.8643836\ttest: 0.8509317\tbest: 0.8509317 (133)\ttotal: 599ms\tremaining: 2.93s\n",
      "170:\tlearn: 0.8657534\ttest: 0.8509317\tbest: 0.8509317 (133)\ttotal: 603ms\tremaining: 2.92s\n",
      "171:\tlearn: 0.8657534\ttest: 0.8509317\tbest: 0.8509317 (133)\ttotal: 605ms\tremaining: 2.91s\n",
      "172:\tlearn: 0.8643836\ttest: 0.8509317\tbest: 0.8509317 (133)\ttotal: 607ms\tremaining: 2.9s\n",
      "173:\tlearn: 0.8643836\ttest: 0.8509317\tbest: 0.8509317 (133)\ttotal: 611ms\tremaining: 2.9s\n",
      "174:\tlearn: 0.8643836\ttest: 0.8509317\tbest: 0.8509317 (133)\ttotal: 614ms\tremaining: 2.89s\n",
      "175:\tlearn: 0.8657534\ttest: 0.8509317\tbest: 0.8509317 (133)\ttotal: 617ms\tremaining: 2.89s\n",
      "176:\tlearn: 0.8671233\ttest: 0.8509317\tbest: 0.8509317 (133)\ttotal: 621ms\tremaining: 2.89s\n",
      "177:\tlearn: 0.8671233\ttest: 0.8509317\tbest: 0.8509317 (133)\ttotal: 624ms\tremaining: 2.88s\n",
      "178:\tlearn: 0.8671233\ttest: 0.8509317\tbest: 0.8509317 (133)\ttotal: 628ms\tremaining: 2.88s\n",
      "179:\tlearn: 0.8684932\ttest: 0.8509317\tbest: 0.8509317 (133)\ttotal: 632ms\tremaining: 2.88s\n",
      "180:\tlearn: 0.8698630\ttest: 0.8509317\tbest: 0.8509317 (133)\ttotal: 634ms\tremaining: 2.87s\n",
      "181:\tlearn: 0.8698630\ttest: 0.8509317\tbest: 0.8509317 (133)\ttotal: 638ms\tremaining: 2.87s\n",
      "182:\tlearn: 0.8698630\ttest: 0.8509317\tbest: 0.8509317 (133)\ttotal: 642ms\tremaining: 2.86s\n",
      "183:\tlearn: 0.8698630\ttest: 0.8509317\tbest: 0.8509317 (133)\ttotal: 643ms\tremaining: 2.85s\n",
      "Stopped by overfitting detector  (50 iterations wait)\n",
      "\n",
      "bestTest = 0.850931677\n",
      "bestIteration = 133\n",
      "\n",
      "Shrink model to first 134 iterations.\n"
     ]
    },
    {
     "data": {
      "text/plain": [
       "<catboost.core.CatBoostClassifier at 0x7fc3eba5c898>"
      ]
     },
     "execution_count": 11,
     "metadata": {},
     "output_type": "execute_result"
    }
   ],
   "source": [
    "#now just to make the model to fit the data\n",
    "clf.fit(xtrain,ytrain,cat_features=cate_features_index,eval_set=(xtest,ytest), early_stopping_rounds=50)"
   ]
  },
  {
   "cell_type": "markdown",
   "metadata": {},
   "source": [
    "**Preprocessing Test_Data like train data**"
   ]
  },
  {
   "cell_type": "code",
   "execution_count": 12,
   "metadata": {},
   "outputs": [],
   "source": [
    "test_id = test_data.PassengerId"
   ]
  },
  {
   "cell_type": "code",
   "execution_count": 13,
   "metadata": {},
   "outputs": [
    {
     "data": {
      "text/plain": [
       "PassengerId      0\n",
       "Pclass           0\n",
       "Sex              0\n",
       "Age              0\n",
       "Ticket           0\n",
       "Fare             0\n",
       "Embarked         0\n",
       "family_member    0\n",
       "dtype: int64"
      ]
     },
     "execution_count": 13,
     "metadata": {},
     "output_type": "execute_result"
    }
   ],
   "source": [
    "test_data.isnull().sum()"
   ]
  },
  {
   "cell_type": "code",
   "execution_count": 14,
   "metadata": {},
   "outputs": [],
   "source": [
    "prediction = clf.predict(test_data)"
   ]
  },
  {
   "cell_type": "code",
   "execution_count": 15,
   "metadata": {},
   "outputs": [
    {
     "data": {
      "text/plain": [
       "(418, 418)"
      ]
     },
     "execution_count": 15,
     "metadata": {},
     "output_type": "execute_result"
    }
   ],
   "source": [
    "len(test_id),len(prediction)"
   ]
  },
  {
   "cell_type": "code",
   "execution_count": 16,
   "metadata": {},
   "outputs": [],
   "source": [
    "df_sub = pd.DataFrame()\n",
    "df_sub['PassengerId'] = test_id\n",
    "df_sub['Survived'] = prediction.astype(np.int)\n",
    "\n",
    "df_sub.to_csv('gender_submission.csv', index=False)"
   ]
  }
 ],
 "metadata": {
  "kernelspec": {
   "display_name": "Python 3",
   "language": "python",
   "name": "python3"
  },
  "language_info": {
   "codemirror_mode": {
    "name": "ipython",
    "version": 3
   },
   "file_extension": ".py",
   "mimetype": "text/x-python",
   "name": "python",
   "nbconvert_exporter": "python",
   "pygments_lexer": "ipython3",
   "version": "3.6.6"
  }
 },
 "nbformat": 4,
 "nbformat_minor": 4
}
